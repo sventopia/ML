{
 "cells": [
  {
   "cell_type": "code",
   "execution_count": 107,
   "metadata": {},
   "outputs": [],
   "source": [
    "import os\n",
    "import pandas as pd\n",
    "import numpy as np\n",
    "import matplotlib.pyplot as plt\n",
    "import seaborn as sns\n",
    "from scipy import stats\n",
    "\n",
    "%matplotlib inline\n",
    "%config InlineBackend.figure_format = 'retina'\n",
    "\n",
    "##Do I need all of these?\n",
    "import sklearn.preprocessing as preprocessing\n",
    "import statsmodels as sm\n",
    "import sklearn as skl\n",
    "import sklearn.preprocessing as preprocessing\n",
    "import sklearn.linear_model as linear_model\n",
    "import sklearn.metrics as metrics\n",
    "import sklearn.tree as tree\n",
    "from sklearn.ensemble import RandomForestClassifier\n",
    "from sklearn import neighbors\n",
    "from sklearn.svm import SVC\n",
    "from sklearn.neural_network import MLPClassifier\n",
    "\n",
    "import seaborn as sns\n",
    "\n",
    "from sklearn.linear_model import LogisticRegression\n",
    "from sklearn import metrics\n",
    "from sklearn.preprocessing import StandardScaler, LabelEncoder\n",
    "from sklearn.model_selection import (cross_val_score, GridSearchCV, \n",
    "                                     train_test_split, StratifiedShuffleSplit)\n",
    "\n",
    "from IPython.display import display\n",
    "from numpy.random import RandomState\n",
    "\n",
    "from sklearn.model_selection import GridSearchCV, StratifiedKFold, train_test_split\n",
    "from sklearn.pipeline import Pipeline\n",
    "from sklearn.preprocessing import RobustScaler, StandardScaler\n",
    "from sklearn_pandas import DataFrameMapper"
   ]
  },
  {
   "cell_type": "code",
   "execution_count": 108,
   "metadata": {},
   "outputs": [],
   "source": [
    "import warnings\n",
    "warnings.filterwarnings(\"ignore\")"
   ]
  },
  {
   "cell_type": "code",
   "execution_count": 109,
   "metadata": {},
   "outputs": [],
   "source": [
    "def _gridSearchCV(estimator, param_grid, X, y, test_size=0.2):\n",
    "    grid_search = GridSearchCV(\n",
    "        estimator=estimator(),\n",
    "        param_grid=param_grid,\n",
    "        cv=StratifiedShuffleSplit(n_splits=10, test_size=test_size),\n",
    "        scoring=make_scorer(roc_auc_score),\n",
    "        n_jobs=-1\n",
    "    )\n",
    "    grid_search.fit(X, y)\n",
    "    return grid_search"
   ]
  },
  {
   "cell_type": "code",
   "execution_count": null,
   "metadata": {},
   "outputs": [],
   "source": [
    "\n",
    "grid_search.fit(X_std, y_enc)\n",
    "grid_search.best_params_\n",
    "\n",
    "final_clf = tree.DecisionTreeClassifier(max_depth=7)\n",
    "final_clf.fit(X_std, y_enc);\n",
    "\n",
    "cv_results_df = pd.DataFrame(grid_search.cv_results_)\n",
    "cv_results_df.sort_values(by=\"rank_test_score\").head(5)"
   ]
  },
  {
   "cell_type": "markdown",
   "metadata": {},
   "source": [
    "# Poisonous mushrooms\n",
    "Get the data\n",
    "## Interests\n",
    "## Munging"
   ]
  },
  {
   "cell_type": "code",
   "execution_count": 110,
   "metadata": {},
   "outputs": [
    {
     "name": "stdout",
     "output_type": "stream",
     "text": [
      "<class 'pandas.core.frame.DataFrame'>\n",
      "RangeIndex: 8124 entries, 0 to 8123\n",
      "Data columns (total 23 columns):\n",
      "class                       8124 non-null object\n",
      "cap-shape                   8124 non-null object\n",
      "cap-surface                 8124 non-null object\n",
      "cap-color                   8124 non-null object\n",
      "bruises                     8124 non-null object\n",
      "odor                        8124 non-null object\n",
      "gill-attachment             8124 non-null object\n",
      "gill-spacing                8124 non-null object\n",
      "gill-size                   8124 non-null object\n",
      "gill-color                  8124 non-null object\n",
      "stalk-shape                 8124 non-null object\n",
      "stalk-root                  8124 non-null object\n",
      "stalk-surface-above-ring    8124 non-null object\n",
      "stalk-surface-below-ring    8124 non-null object\n",
      "stalk-color-above-ring      8124 non-null object\n",
      "stalk-color-below-ring      8124 non-null object\n",
      "veil-type                   8124 non-null object\n",
      "veil-color                  8124 non-null object\n",
      "ring-number                 8124 non-null object\n",
      "ring-type                   8124 non-null object\n",
      "spore-print-color           8124 non-null object\n",
      "population                  8124 non-null object\n",
      "habitat                     8124 non-null object\n",
      "dtypes: object(23)\n",
      "memory usage: 1.4+ MB\n"
     ]
    }
   ],
   "source": [
    "df = pd.read_csv('datasets/mushrooms.csv')\n",
    "df.info()"
   ]
  },
  {
   "cell_type": "code",
   "execution_count": 111,
   "metadata": {},
   "outputs": [],
   "source": [
    "#remove entries with unknown stalk root\n",
    "df = df[df['stalk-root'] != '?']"
   ]
  },
  {
   "cell_type": "code",
   "execution_count": 112,
   "metadata": {},
   "outputs": [
    {
     "data": {
      "text/plain": [
       "<seaborn.axisgrid.FacetGrid at 0x1a1b313710>"
      ]
     },
     "execution_count": 112,
     "metadata": {},
     "output_type": "execute_result"
    },
    {
     "data": {
      "image/png": "[encoded data removed]",
      "text/plain": [
       "<Figure size 360x360 with 1 Axes>"
      ]
     },
     "metadata": {
      "image/png": {
       "height": 350,
       "width": 364
      },
      "needs_background": "light"
     },
     "output_type": "display_data"
    }
   ],
   "source": [
    "sns.catplot(\n",
    "    x='class',\n",
    "    data=df,\n",
    "    kind='count')"
   ]
  },
  {
   "cell_type": "code",
   "execution_count": 113,
   "metadata": {},
   "outputs": [],
   "source": [
    "#split off the response variable\n",
    "y = df['class'].to_frame()\n",
    "X = df.loc[:, df.columns != 'class']"
   ]
  },
  {
   "cell_type": "code",
   "execution_count": 114,
   "metadata": {},
   "outputs": [],
   "source": [
    "#encode dummy variables\n",
    "X_enc = pd.get_dummies(X)\n",
    "\n",
    "#Scale\n",
    "scaler = StandardScaler()\n",
    "X_std = scaler.fit_transform(X_enc)"
   ]
  },
  {
   "cell_type": "code",
   "execution_count": 115,
   "metadata": {},
   "outputs": [],
   "source": [
    "#encode the target variable\n",
    "le = LabelEncoder()\n",
    "y_enc = le.fit_transform(y.values.ravel())"
   ]
  },
  {
   "cell_type": "markdown",
   "metadata": {},
   "source": [
    "### Decision trees"
   ]
  },
  {
   "cell_type": "code",
   "execution_count": 116,
   "metadata": {},
   "outputs": [],
   "source": [
    "param_grid = [{\n",
    "    'max_depth': list(range(1,10,1)),\n",
    "    'criterion': ['gini','entropy']\n",
    "}]\n",
    "gs_dt_m = _gridSearchCV(\n",
    "    tree.DecisionTreeClassifier, \n",
    "    param_grid,\n",
    "    X_std, \n",
    "    y_enc)"
   ]
  },
  {
   "cell_type": "code",
   "execution_count": 117,
   "metadata": {},
   "outputs": [
    {
     "data": {
      "text/plain": [
       "{'criterion': 'gini', 'max_depth': 5}"
      ]
     },
     "execution_count": 117,
     "metadata": {},
     "output_type": "execute_result"
    }
   ],
   "source": [
    "gs_dt_m.best_params_"
   ]
  },
  {
   "cell_type": "code",
   "execution_count": 118,
   "metadata": {},
   "outputs": [
    {
     "data": {
      "text/html": [
       "<div>\n",
       "<style scoped>\n",
       "    .dataframe tbody tr th:only-of-type {\n",
       "        vertical-align: middle;\n",
       "    }\n",
       "\n",
       "    .dataframe tbody tr th {\n",
       "        vertical-align: top;\n",
       "    }\n",
       "\n",
       "    .dataframe thead th {\n",
       "        text-align: right;\n",
       "    }\n",
       "</style>\n",
       "<table border=\"1\" class=\"dataframe\">\n",
       "  <thead>\n",
       "    <tr style=\"text-align: right;\">\n",
       "      <th></th>\n",
       "      <th>mean_fit_time</th>\n",
       "      <th>std_fit_time</th>\n",
       "      <th>mean_score_time</th>\n",
       "      <th>std_score_time</th>\n",
       "      <th>param_criterion</th>\n",
       "      <th>param_max_depth</th>\n",
       "      <th>params</th>\n",
       "      <th>split0_test_score</th>\n",
       "      <th>split1_test_score</th>\n",
       "      <th>split2_test_score</th>\n",
       "      <th>...</th>\n",
       "      <th>split2_train_score</th>\n",
       "      <th>split3_train_score</th>\n",
       "      <th>split4_train_score</th>\n",
       "      <th>split5_train_score</th>\n",
       "      <th>split6_train_score</th>\n",
       "      <th>split7_train_score</th>\n",
       "      <th>split8_train_score</th>\n",
       "      <th>split9_train_score</th>\n",
       "      <th>mean_train_score</th>\n",
       "      <th>std_train_score</th>\n",
       "    </tr>\n",
       "  </thead>\n",
       "  <tbody>\n",
       "    <tr>\n",
       "      <th>0</th>\n",
       "      <td>0.036600</td>\n",
       "      <td>0.007889</td>\n",
       "      <td>0.003191</td>\n",
       "      <td>0.001883</td>\n",
       "      <td>gini</td>\n",
       "      <td>1</td>\n",
       "      <td>{'criterion': 'gini', 'max_depth': 1}</td>\n",
       "      <td>0.886311</td>\n",
       "      <td>0.867749</td>\n",
       "      <td>0.870070</td>\n",
       "      <td>...</td>\n",
       "      <td>0.866667</td>\n",
       "      <td>0.865797</td>\n",
       "      <td>0.863768</td>\n",
       "      <td>0.870145</td>\n",
       "      <td>0.868116</td>\n",
       "      <td>0.867246</td>\n",
       "      <td>0.866957</td>\n",
       "      <td>0.866957</td>\n",
       "      <td>0.866551</td>\n",
       "      <td>0.002013</td>\n",
       "    </tr>\n",
       "    <tr>\n",
       "      <th>1</th>\n",
       "      <td>0.034297</td>\n",
       "      <td>0.007107</td>\n",
       "      <td>0.002332</td>\n",
       "      <td>0.000752</td>\n",
       "      <td>gini</td>\n",
       "      <td>2</td>\n",
       "      <td>{'criterion': 'gini', 'max_depth': 2}</td>\n",
       "      <td>0.949749</td>\n",
       "      <td>0.947327</td>\n",
       "      <td>0.941425</td>\n",
       "      <td>...</td>\n",
       "      <td>0.940332</td>\n",
       "      <td>0.941064</td>\n",
       "      <td>0.939283</td>\n",
       "      <td>0.939589</td>\n",
       "      <td>0.942140</td>\n",
       "      <td>0.937243</td>\n",
       "      <td>0.940042</td>\n",
       "      <td>0.942029</td>\n",
       "      <td>0.939883</td>\n",
       "      <td>0.001499</td>\n",
       "    </tr>\n",
       "    <tr>\n",
       "      <th>2</th>\n",
       "      <td>0.044496</td>\n",
       "      <td>0.007221</td>\n",
       "      <td>0.003020</td>\n",
       "      <td>0.002448</td>\n",
       "      <td>gini</td>\n",
       "      <td>3</td>\n",
       "      <td>{'criterion': 'gini', 'max_depth': 3}</td>\n",
       "      <td>0.978611</td>\n",
       "      <td>0.973325</td>\n",
       "      <td>0.974485</td>\n",
       "      <td>...</td>\n",
       "      <td>0.975939</td>\n",
       "      <td>0.975443</td>\n",
       "      <td>0.975016</td>\n",
       "      <td>0.975222</td>\n",
       "      <td>0.975870</td>\n",
       "      <td>0.974837</td>\n",
       "      <td>0.973830</td>\n",
       "      <td>0.976877</td>\n",
       "      <td>0.975417</td>\n",
       "      <td>0.000811</td>\n",
       "    </tr>\n",
       "    <tr>\n",
       "      <th>3</th>\n",
       "      <td>0.037262</td>\n",
       "      <td>0.007138</td>\n",
       "      <td>0.002969</td>\n",
       "      <td>0.001357</td>\n",
       "      <td>gini</td>\n",
       "      <td>4</td>\n",
       "      <td>{'criterion': 'gini', 'max_depth': 4}</td>\n",
       "      <td>0.997851</td>\n",
       "      <td>0.999284</td>\n",
       "      <td>0.998567</td>\n",
       "      <td>...</td>\n",
       "      <td>0.998925</td>\n",
       "      <td>0.999104</td>\n",
       "      <td>0.998746</td>\n",
       "      <td>0.998925</td>\n",
       "      <td>0.998566</td>\n",
       "      <td>0.999104</td>\n",
       "      <td>0.998746</td>\n",
       "      <td>0.998925</td>\n",
       "      <td>0.998889</td>\n",
       "      <td>0.000176</td>\n",
       "    </tr>\n",
       "    <tr>\n",
       "      <th>4</th>\n",
       "      <td>0.032853</td>\n",
       "      <td>0.005441</td>\n",
       "      <td>0.002211</td>\n",
       "      <td>0.000814</td>\n",
       "      <td>gini</td>\n",
       "      <td>5</td>\n",
       "      <td>{'criterion': 'gini', 'max_depth': 5}</td>\n",
       "      <td>1.000000</td>\n",
       "      <td>1.000000</td>\n",
       "      <td>1.000000</td>\n",
       "      <td>...</td>\n",
       "      <td>1.000000</td>\n",
       "      <td>1.000000</td>\n",
       "      <td>1.000000</td>\n",
       "      <td>1.000000</td>\n",
       "      <td>1.000000</td>\n",
       "      <td>1.000000</td>\n",
       "      <td>1.000000</td>\n",
       "      <td>1.000000</td>\n",
       "      <td>1.000000</td>\n",
       "      <td>0.000000</td>\n",
       "    </tr>\n",
       "  </tbody>\n",
       "</table>\n",
       "<p>5 rows × 32 columns</p>\n",
       "</div>"
      ],
      "text/plain": [
       "   mean_fit_time  std_fit_time  mean_score_time  std_score_time  \\\n",
       "0       0.036600      0.007889         0.003191        0.001883   \n",
       "1       0.034297      0.007107         0.002332        0.000752   \n",
       "2       0.044496      0.007221         0.003020        0.002448   \n",
       "3       0.037262      0.007138         0.002969        0.001357   \n",
       "4       0.032853      0.005441         0.002211        0.000814   \n",
       "\n",
       "  param_criterion param_max_depth                                 params  \\\n",
       "0            gini               1  {'criterion': 'gini', 'max_depth': 1}   \n",
       "1            gini               2  {'criterion': 'gini', 'max_depth': 2}   \n",
       "2            gini               3  {'criterion': 'gini', 'max_depth': 3}   \n",
       "3            gini               4  {'criterion': 'gini', 'max_depth': 4}   \n",
       "4            gini               5  {'criterion': 'gini', 'max_depth': 5}   \n",
       "\n",
       "   split0_test_score  split1_test_score  split2_test_score  ...  \\\n",
       "0           0.886311           0.867749           0.870070  ...   \n",
       "1           0.949749           0.947327           0.941425  ...   \n",
       "2           0.978611           0.973325           0.974485  ...   \n",
       "3           0.997851           0.999284           0.998567  ...   \n",
       "4           1.000000           1.000000           1.000000  ...   \n",
       "\n",
       "   split2_train_score  split3_train_score  split4_train_score  \\\n",
       "0            0.866667            0.865797            0.863768   \n",
       "1            0.940332            0.941064            0.939283   \n",
       "2            0.975939            0.975443            0.975016   \n",
       "3            0.998925            0.999104            0.998746   \n",
       "4            1.000000            1.000000            1.000000   \n",
       "\n",
       "   split5_train_score  split6_train_score  split7_train_score  \\\n",
       "0            0.870145            0.868116            0.867246   \n",
       "1            0.939589            0.942140            0.937243   \n",
       "2            0.975222            0.975870            0.974837   \n",
       "3            0.998925            0.998566            0.999104   \n",
       "4            1.000000            1.000000            1.000000   \n",
       "\n",
       "   split8_train_score  split9_train_score  mean_train_score  std_train_score  \n",
       "0            0.866957            0.866957          0.866551         0.002013  \n",
       "1            0.940042            0.942029          0.939883         0.001499  \n",
       "2            0.973830            0.976877          0.975417         0.000811  \n",
       "3            0.998746            0.998925          0.998889         0.000176  \n",
       "4            1.000000            1.000000          1.000000         0.000000  \n",
       "\n",
       "[5 rows x 32 columns]"
      ]
     },
     "execution_count": 118,
     "metadata": {},
     "output_type": "execute_result"
    }
   ],
   "source": [
    "cv_res_df_m = pd.DataFrame(gs_dt_m.cv_results_)\n",
    "cv_res_df_m.head()"
   ]
  },
  {
   "cell_type": "code",
   "execution_count": 119,
   "metadata": {},
   "outputs": [
    {
     "data": {
      "text/plain": [
       "<matplotlib.axes._subplots.AxesSubplot at 0x1a1b3445c0>"
      ]
     },
     "execution_count": 119,
     "metadata": {},
     "output_type": "execute_result"
    },
    {
     "data": {
      "image/png": "[encoded data removed]",
      "text/plain": [
       "<Figure size 432x288 with 1 Axes>"
      ]
     },
     "metadata": {
      "image/png": {
       "height": 264,
       "width": 394
      },
      "needs_background": "light"
     },
     "output_type": "display_data"
    }
   ],
   "source": [
    "sns.lineplot(\n",
    "    x='param_max_depth',\n",
    "    y='mean_train_score',\n",
    "    hue='param_criterion',\n",
    "    data=cv_res_df_m)"
   ]
  },
  {
   "cell_type": "code",
   "execution_count": 121,
   "metadata": {},
   "outputs": [
    {
     "data": {
      "text/plain": [
       "<matplotlib.axes._subplots.AxesSubplot at 0x1a1b3546d8>"
      ]
     },
     "execution_count": 121,
     "metadata": {},
     "output_type": "execute_result"
    },
    {
     "data": {
      "image/png": "[encoded data removed]",
      "text/plain": [
       "<Figure size 432x288 with 1 Axes>"
      ]
     },
     "metadata": {
      "image/png": {
       "height": 264,
       "width": 407
      },
      "needs_background": "light"
     },
     "output_type": "display_data"
    }
   ],
   "source": [
    "sns.lineplot(\n",
    "    x='param_max_depth',\n",
    "    y='mean_fit_time',\n",
    "    data=cv_res_df_m)"
   ]
  },
  {
   "cell_type": "code",
   "execution_count": 122,
   "metadata": {},
   "outputs": [],
   "source": [
    "y_pred_m = gs_dt_m.predict(X_std)\n",
    "accuracy_m = metrics.accuracy_score(y_enc, y_predicted)\n",
    "AUROC_m = gs_dt_m.score(X_std, y_enc)\n",
    "confusion_mat_m= metrics.confusion_matrix(y_enc, y_predicted)\n",
    "prec_recall_fsore_support_m = metrics.precision_recall_fscore_support(y_enc, y_predicted)"
   ]
  },
  {
   "cell_type": "code",
   "execution_count": 123,
   "metadata": {},
   "outputs": [
    {
     "data": {
      "text/plain": [
       "(array([1., 1.]), array([1., 1.]), array([1., 1.]), array([3488, 2156]))"
      ]
     },
     "execution_count": 123,
     "metadata": {},
     "output_type": "execute_result"
    }
   ],
   "source": [
    "prec_recall_fsore_support_m"
   ]
  },
  {
   "cell_type": "markdown",
   "metadata": {},
   "source": [
    "### Boosting"
   ]
  },
  {
   "cell_type": "code",
   "execution_count": 124,
   "metadata": {},
   "outputs": [],
   "source": [
    "### Boosting\n",
    "param_grid = [{\n",
    "    'n_estimators': list(range(5,25,1)),\n",
    "    'max_depth': list(range(1,10,1)),\n",
    "    'criterion': ['gini','entropy']\n",
    "}]\n",
    "gs_rf_m = _gridSearchCV(\n",
    "    RandomForestClassifier, \n",
    "    param_grid,\n",
    "    X_std, \n",
    "    y_enc)"
   ]
  },
  {
   "cell_type": "code",
   "execution_count": 125,
   "metadata": {},
   "outputs": [
    {
     "data": {
      "text/plain": [
       "{'criterion': 'gini', 'max_depth': 6, 'n_estimators': 24}"
      ]
     },
     "execution_count": 125,
     "metadata": {},
     "output_type": "execute_result"
    }
   ],
   "source": [
    "gs_rf_m.best_params_"
   ]
  },
  {
   "cell_type": "markdown",
   "metadata": {},
   "source": [
    "### KNN"
   ]
  },
  {
   "cell_type": "code",
   "execution_count": 126,
   "metadata": {},
   "outputs": [],
   "source": [
    "param_grid = [{\n",
    "    'n_neighbors': list(range(1,3,1)),\n",
    "    'weights': ['uniform','distance'],\n",
    "    'metric': ['minkowski','manhattan']\n",
    "}]\n",
    "gs_knn_m = _gridSearchCV(\n",
    "    neighbors.KNeighborsClassifier, \n",
    "    param_grid,\n",
    "    X_std, \n",
    "    y_enc)"
   ]
  },
  {
   "cell_type": "code",
   "execution_count": 127,
   "metadata": {},
   "outputs": [
    {
     "data": {
      "text/plain": [
       "{'metric': 'minkowski', 'n_neighbors': 1, 'weights': 'uniform'}"
      ]
     },
     "execution_count": 127,
     "metadata": {},
     "output_type": "execute_result"
    }
   ],
   "source": [
    "gs_knn_m.best_params_"
   ]
  },
  {
   "cell_type": "markdown",
   "metadata": {},
   "source": [
    "### SVM"
   ]
  },
  {
   "cell_type": "code",
   "execution_count": 128,
   "metadata": {},
   "outputs": [],
   "source": [
    "param_grid = [{\n",
    "    'kernel': ['linear','poly','rbf','sigmoid'],\n",
    "    'degree': list(range(1,4,1)),\n",
    "    'decision_function_shape': ['ovr','ovo']\n",
    "}]\n",
    "gs_svm_m = _gridSearchCV(\n",
    "    SVC, \n",
    "    param_grid,\n",
    "    X_std, \n",
    "    y_enc)"
   ]
  },
  {
   "cell_type": "code",
   "execution_count": 129,
   "metadata": {},
   "outputs": [
    {
     "data": {
      "text/plain": [
       "{'decision_function_shape': 'ovr', 'degree': 1, 'kernel': 'linear'}"
      ]
     },
     "execution_count": 129,
     "metadata": {},
     "output_type": "execute_result"
    }
   ],
   "source": [
    "gs_svm_m.best_params_"
   ]
  },
  {
   "cell_type": "markdown",
   "metadata": {},
   "source": [
    "### Neural Networks"
   ]
  },
  {
   "cell_type": "code",
   "execution_count": 130,
   "metadata": {},
   "outputs": [],
   "source": [
    "param_grid = [{\n",
    "    'hidden_layer_sizes': [(n,) for n in list(range(1,20,1))],\n",
    "    'solver': ['lbfgs','sgd','adam'],\n",
    "    'activation': ['relu','logistic'],\n",
    "    'learning_rate': ['constant','invscaling']\n",
    "}]\n",
    "gs_mlp_m = _gridSearchCV(\n",
    "    MLPClassifier, \n",
    "    param_grid,\n",
    "    X_std, \n",
    "    y_enc)"
   ]
  },
  {
   "cell_type": "code",
   "execution_count": 131,
   "metadata": {},
   "outputs": [
    {
     "data": {
      "text/plain": [
       "{'activation': 'relu',\n",
       " 'hidden_layer_sizes': (6,),\n",
       " 'learning_rate': 'constant',\n",
       " 'solver': 'lbfgs'}"
      ]
     },
     "execution_count": 131,
     "metadata": {},
     "output_type": "execute_result"
    }
   ],
   "source": [
    "gs_mlp_m.best_params_"
   ]
  },
  {
   "cell_type": "markdown",
   "metadata": {},
   "source": [
    "# Adult incomes\n",
    "Get the data\n",
    "## Interests\n",
    "## Munging"
   ]
  },
  {
   "cell_type": "code",
   "execution_count": 132,
   "metadata": {},
   "outputs": [],
   "source": [
    "df = pd.read_csv('datasets/adult/adult.data.txt', header=None)\n",
    "df.columns = ['age','workclass','fnlwgt','education','education-num','marital-status',\n",
    "                  'occupation','relationship','race','sex','capital-gain','capital-loss',\n",
    "                  'hours-per-week','native-country','income']"
   ]
  },
  {
   "cell_type": "code",
   "execution_count": 133,
   "metadata": {},
   "outputs": [],
   "source": [
    "df = df.drop(['capital-gain','capital-loss'], axis=1)\n",
    "#split off the response variable\n",
    "y = df['income'].to_frame()\n",
    "X = df.loc[:, df.columns != 'income']"
   ]
  },
  {
   "cell_type": "code",
   "execution_count": 134,
   "metadata": {},
   "outputs": [],
   "source": [
    "#encode the target variable\n",
    "le = LabelEncoder()\n",
    "y_enc = le.fit_transform(y.values.ravel())\n",
    "\n",
    "#encode dummy variables\n",
    "X_enc = pd.get_dummies(X)\n",
    "\n",
    "scaler = StandardScaler()\n",
    "X_std = scaler.fit_transform(X_enc)"
   ]
  },
  {
   "cell_type": "markdown",
   "metadata": {},
   "source": [
    "### Decision Trees"
   ]
  },
  {
   "cell_type": "code",
   "execution_count": 135,
   "metadata": {},
   "outputs": [],
   "source": [
    "param_grid = [{\n",
    "    'max_depth': list(range(1,10,1)),\n",
    "    'criterion': ['gini','entropy']\n",
    "}]\n",
    "gs_dt_a = _gridSearchCV(\n",
    "    tree.DecisionTreeClassifier, \n",
    "    param_grid,\n",
    "    X_std, \n",
    "    y_enc)"
   ]
  },
  {
   "cell_type": "code",
   "execution_count": 136,
   "metadata": {},
   "outputs": [
    {
     "data": {
      "text/plain": [
       "{'criterion': 'gini', 'max_depth': 7}"
      ]
     },
     "execution_count": 136,
     "metadata": {},
     "output_type": "execute_result"
    }
   ],
   "source": [
    "gs_dt_a.best_params_"
   ]
  },
  {
   "cell_type": "markdown",
   "metadata": {},
   "source": [
    "### Boosting"
   ]
  },
  {
   "cell_type": "code",
   "execution_count": 137,
   "metadata": {},
   "outputs": [],
   "source": [
    "### Boosting\n",
    "param_grid = [{\n",
    "    'n_estimators': list(range(5,25,1)),\n",
    "    'max_depth': list(range(1,10,1)),\n",
    "    'criterion': ['gini','entropy']\n",
    "}]\n",
    "gs_rf_a = _gridSearchCV(\n",
    "    RandomForestClassifier, \n",
    "    param_grid,\n",
    "    X_std, \n",
    "    y_enc)"
   ]
  },
  {
   "cell_type": "code",
   "execution_count": 140,
   "metadata": {},
   "outputs": [
    {
     "data": {
      "text/plain": [
       "{'criterion': 'entropy', 'max_depth': 9, 'n_estimators': 8}"
      ]
     },
     "execution_count": 140,
     "metadata": {},
     "output_type": "execute_result"
    }
   ],
   "source": [
    "gs_rf_a.best_params_"
   ]
  },
  {
   "cell_type": "markdown",
   "metadata": {},
   "source": [
    "### K-nearest neighbors"
   ]
  },
  {
   "cell_type": "code",
   "execution_count": null,
   "metadata": {},
   "outputs": [],
   "source": [
    "param_grid = [{\n",
    "    'n_neighbors': list(range(1,3,1)),\n",
    "    'weights': ['uniform','distance'],\n",
    "    'metric': ['minkowski','manhattan']\n",
    "}]\n",
    "gs_knn_a = _gridSearchCV(\n",
    "    neighbors.KNeighborsClassifier, \n",
    "    param_grid,\n",
    "    X_std, \n",
    "    y_enc)"
   ]
  },
  {
   "cell_type": "code",
   "execution_count": null,
   "metadata": {},
   "outputs": [],
   "source": [
    "gs_knn_a.best_params_"
   ]
  },
  {
   "cell_type": "markdown",
   "metadata": {},
   "source": [
    "### SVM"
   ]
  },
  {
   "cell_type": "code",
   "execution_count": null,
   "metadata": {},
   "outputs": [],
   "source": [
    "param_grid = [{\n",
    "    'kernel': ['linear','poly','rbf','sigmoid'],\n",
    "    'degree': list(range(1,4,1)),\n",
    "    'decision_function_shape': ['ovr','ovo']\n",
    "}]\n",
    "gs_svm_a = _gridSearchCV(\n",
    "    SVC, \n",
    "    param_grid,\n",
    "    X_std, \n",
    "    y_enc)"
   ]
  },
  {
   "cell_type": "code",
   "execution_count": null,
   "metadata": {},
   "outputs": [],
   "source": [
    "gs_svm_a.best_params_"
   ]
  },
  {
   "cell_type": "markdown",
   "metadata": {},
   "source": [
    "### Neural Networks"
   ]
  },
  {
   "cell_type": "code",
   "execution_count": null,
   "metadata": {},
   "outputs": [],
   "source": [
    "param_grid = [{\n",
    "    'hidden_layer_sizes': [(n,) for n in list(range(1,20,1))],\n",
    "    'solver': ['lbfgs','sgd','adam'],\n",
    "    'activation': ['relu','logistic'],\n",
    "    'learning_rate': ['constant','invscaling']\n",
    "}]\n",
    "gs_mlp_a = _gridSearchCV(\n",
    "    MLPClassifier, \n",
    "    param_grid,\n",
    "    X_std, \n",
    "    y_enc)"
   ]
  },
  {
   "cell_type": "code",
   "execution_count": null,
   "metadata": {},
   "outputs": [],
   "source": [
    "gs_mlp_a.best_params_"
   ]
  },
  {
   "cell_type": "code",
   "execution_count": null,
   "metadata": {},
   "outputs": [],
   "source": []
  }
 ],
 "metadata": {
  "kernelspec": {
   "display_name": "Python 3",
   "language": "python",
   "name": "python3"
  },
  "language_info": {
   "codemirror_mode": {
    "name": "ipython",
    "version": 3
   },
   "file_extension": ".py",
   "mimetype": "text/x-python",
   "name": "python",
   "nbconvert_exporter": "python",
   "pygments_lexer": "ipython3",
   "version": "3.6.7"
  }
 },
 "nbformat": 4,
 "nbformat_minor": 2
}
