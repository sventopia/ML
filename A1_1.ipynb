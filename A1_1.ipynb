{
 "cells": [
  {
   "cell_type": "code",
   "execution_count": 27,
   "metadata": {},
   "outputs": [],
   "source": [
    "import os\n",
    "import pandas as pd\n",
    "import numpy as np\n",
    "import matplotlib.pyplot as plt\n",
    "import seaborn as sns\n",
    "import sklearn.metrics as metrics\n",
    "import sklearn.tree as tree\n",
    "from sklearn.ensemble import RandomForestClassifier\n",
    "from sklearn import neighbors\n",
    "from sklearn.svm import SVC\n",
    "from sklearn.neural_network import MLPClassifier\n",
    "from sklearn.preprocessing import StandardScaler, LabelEncoder\n",
    "#from sklearn.model_selection import GridSearchCV, StratifiedKFold, train_test_split\n",
    "\n",
    "from sklearn.model_selection import (cross_val_score, GridSearchCV, \n",
    "                                     train_test_split, StratifiedShuffleSplit)\n",
    "\n",
    "%matplotlib inline\n",
    "%config InlineBackend.figure_format = 'retina'\n",
    "\n",
    "##Do I need all of these?\n",
    "#import sklearn.preprocessing as preprocessing\n",
    "#import statsmodels as sm\n",
    "#import sklearn as skl\n",
    "#import sklearn.linear_model as linear_model\n",
    "\n",
    "\n",
    "#import seaborn as sns\n",
    "\n",
    "#from sklearn.linear_model import LogisticRegression\n",
    "#from sklearn import metrics\n",
    "\n",
    "\n",
    "#from IPython.display import display\n",
    "#from numpy.random import RandomState\n",
    "\n",
    "\n",
    "#from sklearn.pipeline import Pipeline\n",
    "#from sklearn.preprocessing import RobustScaler, StandardScaler"
   ]
  },
  {
   "cell_type": "code",
   "execution_count": 28,
   "metadata": {},
   "outputs": [],
   "source": [
    "import warnings\n",
    "warnings.filterwarnings(\"ignore\")"
   ]
  },
  {
   "cell_type": "code",
   "execution_count": 29,
   "metadata": {},
   "outputs": [],
   "source": [
    "def _gridSearchCV(estimator, param_grid, X, y, test_size=0.2):\n",
    "    grid_search = GridSearchCV(\n",
    "        estimator=estimator(),\n",
    "        param_grid=param_grid,\n",
    "        cv=StratifiedShuffleSplit(n_splits=10, test_size=test_size),\n",
    "        scoring=metrics.make_scorer(metrics.roc_auc_score),\n",
    "        n_jobs=-1\n",
    "    )\n",
    "    grid_search.fit(X, y)\n",
    "    return grid_search"
   ]
  },
  {
   "cell_type": "code",
   "execution_count": 58,
   "metadata": {},
   "outputs": [],
   "source": [
    "#Save the metrics\n",
    "def getPerfMetrics(gridSearchCVmodel, X, y, model_name, pos_name, neg_name):\n",
    "    gs = gridSearchCVmodel\n",
    "    \n",
    "    gs_res = pd.DataFrame(gs.cv_results_)\n",
    "\n",
    "    y_pred = gs.predict(X)\n",
    "\n",
    "    accuracy = metrics.accuracy_score(y, y_pred)\n",
    "    AUROC = gs_dt_m.score(X, y)\n",
    "    confusion_matrix= metrics.confusion_matrix(y, y_pred)\n",
    "    prfs = metrics.precision_recall_fscore_support(y, y_pred)\n",
    "\n",
    "    confusion_matrix_frac = confusion_matrix / prfs[3].sum()\n",
    "    confusion_matrix_frac = pd.DataFrame(confusion_matrix_frac, \n",
    "             columns=['pred '+neg_name, 'pred '+pos_name],\n",
    "            index=['actual '+neg_name, 'actual '+pos_name])\n",
    "\n",
    "    params = pd.DataFrame(\n",
    "        gs.best_params_,\n",
    "        index=[model_name+\" best parameters\"]\n",
    "    )\n",
    "    gen_results = pd.DataFrame(\n",
    "        {'Accuracy': accuracy,\n",
    "         'AUROC-score': AUROC\n",
    "        },\n",
    "        index=[model_name]\n",
    "    )\n",
    "    class_results = pd.DataFrame(\n",
    "         {'Precision': prfs[0],\n",
    "         'Recall': prfs[1],\n",
    "         'F-score': prfs[2],\n",
    "         'Support': prfs[3]\n",
    "         },\n",
    "        index=[pos_name,neg_name]\n",
    "    )\n",
    "\n",
    "\n",
    "    return gs.cv_results_, params, gen_results, class_results, confusion_matrix_frac"
   ]
  },
  {
   "cell_type": "markdown",
   "metadata": {},
   "source": [
    "# Poisonous mushrooms\n",
    "Get the data\n",
    "## Interests\n",
    "## Munging"
   ]
  },
  {
   "cell_type": "code",
   "execution_count": 31,
   "metadata": {},
   "outputs": [
    {
     "data": {
      "text/html": [
       "<div>\n",
       "<style scoped>\n",
       "    .dataframe tbody tr th:only-of-type {\n",
       "        vertical-align: middle;\n",
       "    }\n",
       "\n",
       "    .dataframe tbody tr th {\n",
       "        vertical-align: top;\n",
       "    }\n",
       "\n",
       "    .dataframe thead th {\n",
       "        text-align: right;\n",
       "    }\n",
       "</style>\n",
       "<table border=\"1\" class=\"dataframe\">\n",
       "  <thead>\n",
       "    <tr style=\"text-align: right;\">\n",
       "      <th></th>\n",
       "      <th>class</th>\n",
       "      <th>cap-shape</th>\n",
       "      <th>cap-surface</th>\n",
       "      <th>cap-color</th>\n",
       "      <th>bruises</th>\n",
       "      <th>odor</th>\n",
       "      <th>gill-attachment</th>\n",
       "      <th>gill-spacing</th>\n",
       "      <th>gill-size</th>\n",
       "      <th>gill-color</th>\n",
       "      <th>...</th>\n",
       "      <th>stalk-surface-below-ring</th>\n",
       "      <th>stalk-color-above-ring</th>\n",
       "      <th>stalk-color-below-ring</th>\n",
       "      <th>veil-type</th>\n",
       "      <th>veil-color</th>\n",
       "      <th>ring-number</th>\n",
       "      <th>ring-type</th>\n",
       "      <th>spore-print-color</th>\n",
       "      <th>population</th>\n",
       "      <th>habitat</th>\n",
       "    </tr>\n",
       "  </thead>\n",
       "  <tbody>\n",
       "    <tr>\n",
       "      <th>0</th>\n",
       "      <td>p</td>\n",
       "      <td>x</td>\n",
       "      <td>s</td>\n",
       "      <td>n</td>\n",
       "      <td>t</td>\n",
       "      <td>p</td>\n",
       "      <td>f</td>\n",
       "      <td>c</td>\n",
       "      <td>n</td>\n",
       "      <td>k</td>\n",
       "      <td>...</td>\n",
       "      <td>s</td>\n",
       "      <td>w</td>\n",
       "      <td>w</td>\n",
       "      <td>p</td>\n",
       "      <td>w</td>\n",
       "      <td>o</td>\n",
       "      <td>p</td>\n",
       "      <td>k</td>\n",
       "      <td>s</td>\n",
       "      <td>u</td>\n",
       "    </tr>\n",
       "    <tr>\n",
       "      <th>1</th>\n",
       "      <td>e</td>\n",
       "      <td>x</td>\n",
       "      <td>s</td>\n",
       "      <td>y</td>\n",
       "      <td>t</td>\n",
       "      <td>a</td>\n",
       "      <td>f</td>\n",
       "      <td>c</td>\n",
       "      <td>b</td>\n",
       "      <td>k</td>\n",
       "      <td>...</td>\n",
       "      <td>s</td>\n",
       "      <td>w</td>\n",
       "      <td>w</td>\n",
       "      <td>p</td>\n",
       "      <td>w</td>\n",
       "      <td>o</td>\n",
       "      <td>p</td>\n",
       "      <td>n</td>\n",
       "      <td>n</td>\n",
       "      <td>g</td>\n",
       "    </tr>\n",
       "    <tr>\n",
       "      <th>2</th>\n",
       "      <td>e</td>\n",
       "      <td>b</td>\n",
       "      <td>s</td>\n",
       "      <td>w</td>\n",
       "      <td>t</td>\n",
       "      <td>l</td>\n",
       "      <td>f</td>\n",
       "      <td>c</td>\n",
       "      <td>b</td>\n",
       "      <td>n</td>\n",
       "      <td>...</td>\n",
       "      <td>s</td>\n",
       "      <td>w</td>\n",
       "      <td>w</td>\n",
       "      <td>p</td>\n",
       "      <td>w</td>\n",
       "      <td>o</td>\n",
       "      <td>p</td>\n",
       "      <td>n</td>\n",
       "      <td>n</td>\n",
       "      <td>m</td>\n",
       "    </tr>\n",
       "    <tr>\n",
       "      <th>3</th>\n",
       "      <td>p</td>\n",
       "      <td>x</td>\n",
       "      <td>y</td>\n",
       "      <td>w</td>\n",
       "      <td>t</td>\n",
       "      <td>p</td>\n",
       "      <td>f</td>\n",
       "      <td>c</td>\n",
       "      <td>n</td>\n",
       "      <td>n</td>\n",
       "      <td>...</td>\n",
       "      <td>s</td>\n",
       "      <td>w</td>\n",
       "      <td>w</td>\n",
       "      <td>p</td>\n",
       "      <td>w</td>\n",
       "      <td>o</td>\n",
       "      <td>p</td>\n",
       "      <td>k</td>\n",
       "      <td>s</td>\n",
       "      <td>u</td>\n",
       "    </tr>\n",
       "    <tr>\n",
       "      <th>4</th>\n",
       "      <td>e</td>\n",
       "      <td>x</td>\n",
       "      <td>s</td>\n",
       "      <td>g</td>\n",
       "      <td>f</td>\n",
       "      <td>n</td>\n",
       "      <td>f</td>\n",
       "      <td>w</td>\n",
       "      <td>b</td>\n",
       "      <td>k</td>\n",
       "      <td>...</td>\n",
       "      <td>s</td>\n",
       "      <td>w</td>\n",
       "      <td>w</td>\n",
       "      <td>p</td>\n",
       "      <td>w</td>\n",
       "      <td>o</td>\n",
       "      <td>e</td>\n",
       "      <td>n</td>\n",
       "      <td>a</td>\n",
       "      <td>g</td>\n",
       "    </tr>\n",
       "  </tbody>\n",
       "</table>\n",
       "<p>5 rows × 23 columns</p>\n",
       "</div>"
      ],
      "text/plain": [
       "  class cap-shape cap-surface cap-color bruises odor gill-attachment  \\\n",
       "0     p         x           s         n       t    p               f   \n",
       "1     e         x           s         y       t    a               f   \n",
       "2     e         b           s         w       t    l               f   \n",
       "3     p         x           y         w       t    p               f   \n",
       "4     e         x           s         g       f    n               f   \n",
       "\n",
       "  gill-spacing gill-size gill-color  ... stalk-surface-below-ring  \\\n",
       "0            c         n          k  ...                        s   \n",
       "1            c         b          k  ...                        s   \n",
       "2            c         b          n  ...                        s   \n",
       "3            c         n          n  ...                        s   \n",
       "4            w         b          k  ...                        s   \n",
       "\n",
       "  stalk-color-above-ring stalk-color-below-ring veil-type veil-color  \\\n",
       "0                      w                      w         p          w   \n",
       "1                      w                      w         p          w   \n",
       "2                      w                      w         p          w   \n",
       "3                      w                      w         p          w   \n",
       "4                      w                      w         p          w   \n",
       "\n",
       "  ring-number ring-type spore-print-color population habitat  \n",
       "0           o         p                 k          s       u  \n",
       "1           o         p                 n          n       g  \n",
       "2           o         p                 n          n       m  \n",
       "3           o         p                 k          s       u  \n",
       "4           o         e                 n          a       g  \n",
       "\n",
       "[5 rows x 23 columns]"
      ]
     },
     "execution_count": 31,
     "metadata": {},
     "output_type": "execute_result"
    }
   ],
   "source": [
    "#df = pd.read_csv('datasets/mushrooms.csv')\n",
    "df = pd.read_csv('https://raw.githubusercontent.com/sventopia/ML/master/datasets/mushrooms.csv')\n",
    "df.head()"
   ]
  },
  {
   "cell_type": "code",
   "execution_count": 32,
   "metadata": {},
   "outputs": [],
   "source": [
    "#remove entries with unknown stalk root\n",
    "df = df[df['stalk-root'] != '?']"
   ]
  },
  {
   "cell_type": "code",
   "execution_count": 33,
   "metadata": {},
   "outputs": [
    {
     "data": {
      "text/plain": [
       "<seaborn.axisgrid.FacetGrid at 0x1a240be208>"
      ]
     },
     "execution_count": 33,
     "metadata": {},
     "output_type": "execute_result"
    },
    {
     "data": {
      "image/png": "[encoded data removed]",
      "text/plain": [
       "<Figure size 360x360 with 1 Axes>"
      ]
     },
     "metadata": {
      "image/png": {
       "height": 350,
       "width": 364
      },
      "needs_background": "light"
     },
     "output_type": "display_data"
    }
   ],
   "source": [
    "sns.catplot(\n",
    "    x='class',\n",
    "    data=df,\n",
    "    kind='count')"
   ]
  },
  {
   "cell_type": "code",
   "execution_count": 34,
   "metadata": {},
   "outputs": [],
   "source": [
    "#split off the response variable\n",
    "y = df['class'].to_frame()\n",
    "X = df.loc[:, df.columns != 'class']"
   ]
  },
  {
   "cell_type": "code",
   "execution_count": 35,
   "metadata": {},
   "outputs": [],
   "source": [
    "#encode dummy variables\n",
    "X_enc = pd.get_dummies(X)\n",
    "\n",
    "#Scale\n",
    "scaler = StandardScaler()\n",
    "X_std = scaler.fit_transform(X_enc)"
   ]
  },
  {
   "cell_type": "code",
   "execution_count": 36,
   "metadata": {},
   "outputs": [],
   "source": [
    "#encode the target variable\n",
    "le = LabelEncoder()\n",
    "y_enc = le.fit_transform(y.values.ravel())"
   ]
  },
  {
   "cell_type": "markdown",
   "metadata": {},
   "source": [
    "### Decision trees"
   ]
  },
  {
   "cell_type": "code",
   "execution_count": 59,
   "metadata": {},
   "outputs": [],
   "source": [
    "param_grid = [{\n",
    "    'max_depth': list(range(1,10,1)),\n",
    "    'criterion': ['gini','entropy']\n",
    "}]\n",
    "gs_dt_m = _gridSearchCV(\n",
    "    tree.DecisionTreeClassifier, \n",
    "    param_grid,\n",
    "    X_std, \n",
    "    y_enc)"
   ]
  },
  {
   "cell_type": "code",
   "execution_count": 51,
   "metadata": {},
   "outputs": [],
   "source": [
    "#Save the metrics\n",
    "model_name = 'decision tree'\n",
    "pos_class = 'poisonous'\n",
    "neg_class = 'edible'\n",
    "cv_res_dt_m, params_dt_m, gen_res_dt_m, class_res_dt_m, conf_mat_dt_m = getPerfMetrics(gs_dt_m, X_std, y_enc, model_name, pos_class, neg_class)"
   ]
  },
  {
   "cell_type": "code",
   "execution_count": 39,
   "metadata": {},
   "outputs": [
    {
     "data": {
      "text/html": [
       "<div>\n",
       "<style scoped>\n",
       "    .dataframe tbody tr th:only-of-type {\n",
       "        vertical-align: middle;\n",
       "    }\n",
       "\n",
       "    .dataframe tbody tr th {\n",
       "        vertical-align: top;\n",
       "    }\n",
       "\n",
       "    .dataframe thead th {\n",
       "        text-align: right;\n",
       "    }\n",
       "</style>\n",
       "<table border=\"1\" class=\"dataframe\">\n",
       "  <thead>\n",
       "    <tr style=\"text-align: right;\">\n",
       "      <th></th>\n",
       "      <th>criterion</th>\n",
       "      <th>max_depth</th>\n",
       "    </tr>\n",
       "  </thead>\n",
       "  <tbody>\n",
       "    <tr>\n",
       "      <th>decision tree best parameters</th>\n",
       "      <td>gini</td>\n",
       "      <td>5</td>\n",
       "    </tr>\n",
       "  </tbody>\n",
       "</table>\n",
       "</div>"
      ],
      "text/plain": [
       "                              criterion  max_depth\n",
       "decision tree best parameters      gini          5"
      ]
     },
     "execution_count": 39,
     "metadata": {},
     "output_type": "execute_result"
    }
   ],
   "source": [
    "params_dt_m"
   ]
  },
  {
   "cell_type": "code",
   "execution_count": 40,
   "metadata": {},
   "outputs": [
    {
     "data": {
      "text/html": [
       "<div>\n",
       "<style scoped>\n",
       "    .dataframe tbody tr th:only-of-type {\n",
       "        vertical-align: middle;\n",
       "    }\n",
       "\n",
       "    .dataframe tbody tr th {\n",
       "        vertical-align: top;\n",
       "    }\n",
       "\n",
       "    .dataframe thead th {\n",
       "        text-align: right;\n",
       "    }\n",
       "</style>\n",
       "<table border=\"1\" class=\"dataframe\">\n",
       "  <thead>\n",
       "    <tr style=\"text-align: right;\">\n",
       "      <th></th>\n",
       "      <th>Accuracy</th>\n",
       "      <th>AUROC-score</th>\n",
       "    </tr>\n",
       "  </thead>\n",
       "  <tbody>\n",
       "    <tr>\n",
       "      <th>decision tree</th>\n",
       "      <td>1.0</td>\n",
       "      <td>1.0</td>\n",
       "    </tr>\n",
       "  </tbody>\n",
       "</table>\n",
       "</div>"
      ],
      "text/plain": [
       "               Accuracy  AUROC-score\n",
       "decision tree       1.0          1.0"
      ]
     },
     "execution_count": 40,
     "metadata": {},
     "output_type": "execute_result"
    }
   ],
   "source": [
    "gen_res_dt_m"
   ]
  },
  {
   "cell_type": "code",
   "execution_count": 41,
   "metadata": {},
   "outputs": [
    {
     "data": {
      "text/html": [
       "<div>\n",
       "<style scoped>\n",
       "    .dataframe tbody tr th:only-of-type {\n",
       "        vertical-align: middle;\n",
       "    }\n",
       "\n",
       "    .dataframe tbody tr th {\n",
       "        vertical-align: top;\n",
       "    }\n",
       "\n",
       "    .dataframe thead th {\n",
       "        text-align: right;\n",
       "    }\n",
       "</style>\n",
       "<table border=\"1\" class=\"dataframe\">\n",
       "  <thead>\n",
       "    <tr style=\"text-align: right;\">\n",
       "      <th></th>\n",
       "      <th>Precision</th>\n",
       "      <th>Recall</th>\n",
       "      <th>F-score</th>\n",
       "      <th>Support</th>\n",
       "    </tr>\n",
       "  </thead>\n",
       "  <tbody>\n",
       "    <tr>\n",
       "      <th>edible</th>\n",
       "      <td>1.0</td>\n",
       "      <td>1.0</td>\n",
       "      <td>1.0</td>\n",
       "      <td>3488</td>\n",
       "    </tr>\n",
       "    <tr>\n",
       "      <th>poisonous</th>\n",
       "      <td>1.0</td>\n",
       "      <td>1.0</td>\n",
       "      <td>1.0</td>\n",
       "      <td>2156</td>\n",
       "    </tr>\n",
       "  </tbody>\n",
       "</table>\n",
       "</div>"
      ],
      "text/plain": [
       "           Precision  Recall  F-score  Support\n",
       "edible           1.0     1.0      1.0     3488\n",
       "poisonous        1.0     1.0      1.0     2156"
      ]
     },
     "execution_count": 41,
     "metadata": {},
     "output_type": "execute_result"
    }
   ],
   "source": [
    "class_res_dt_m"
   ]
  },
  {
   "cell_type": "code",
   "execution_count": 52,
   "metadata": {},
   "outputs": [
    {
     "data": {
      "text/html": [
       "<div>\n",
       "<style scoped>\n",
       "    .dataframe tbody tr th:only-of-type {\n",
       "        vertical-align: middle;\n",
       "    }\n",
       "\n",
       "    .dataframe tbody tr th {\n",
       "        vertical-align: top;\n",
       "    }\n",
       "\n",
       "    .dataframe thead th {\n",
       "        text-align: right;\n",
       "    }\n",
       "</style>\n",
       "<table border=\"1\" class=\"dataframe\">\n",
       "  <thead>\n",
       "    <tr style=\"text-align: right;\">\n",
       "      <th></th>\n",
       "      <th>pred edible</th>\n",
       "      <th>pred poisonous</th>\n",
       "    </tr>\n",
       "  </thead>\n",
       "  <tbody>\n",
       "    <tr>\n",
       "      <th>actual edible</th>\n",
       "      <td>0.618001</td>\n",
       "      <td>0.000000</td>\n",
       "    </tr>\n",
       "    <tr>\n",
       "      <th>actual poisonous</th>\n",
       "      <td>0.000000</td>\n",
       "      <td>0.381999</td>\n",
       "    </tr>\n",
       "  </tbody>\n",
       "</table>\n",
       "</div>"
      ],
      "text/plain": [
       "                  pred edible  pred poisonous\n",
       "actual edible        0.618001        0.000000\n",
       "actual poisonous     0.000000        0.381999"
      ]
     },
     "execution_count": 52,
     "metadata": {},
     "output_type": "execute_result"
    }
   ],
   "source": [
    "conf_mat_dt_m"
   ]
  },
  {
   "cell_type": "code",
   "execution_count": null,
   "metadata": {},
   "outputs": [],
   "source": [
    "#learning curve\n",
    "sns.lineplot(\n",
    "    x='param_max_depth',\n",
    "    y='mean_train_score',\n",
    "    hue='param_criterion',\n",
    "    data=gs_dt_m_res)"
   ]
  },
  {
   "cell_type": "code",
   "execution_count": null,
   "metadata": {},
   "outputs": [],
   "source": [
    "#computational performance\n",
    "sns.lineplot(\n",
    "    x='param_max_depth',\n",
    "    y='mean_fit_time',\n",
    "    data=cv_res_df_m)"
   ]
  },
  {
   "cell_type": "code",
   "execution_count": null,
   "metadata": {},
   "outputs": [],
   "source": []
  },
  {
   "cell_type": "markdown",
   "metadata": {},
   "source": [
    "### Boosting"
   ]
  },
  {
   "cell_type": "code",
   "execution_count": null,
   "metadata": {},
   "outputs": [],
   "source": [
    "### Boosting\n",
    "param_grid = [{\n",
    "    'n_estimators': list(range(5,25,1)),\n",
    "    'max_depth': list(range(1,10,1)),\n",
    "    'criterion': ['gini','entropy']\n",
    "}]\n",
    "gs_rf_m = _gridSearchCV(\n",
    "    RandomForestClassifier, \n",
    "    param_grid,\n",
    "    X_std, \n",
    "    y_enc)"
   ]
  },
  {
   "cell_type": "code",
   "execution_count": null,
   "metadata": {},
   "outputs": [],
   "source": [
    "#Save the metrics\n",
    "model_name = 'random forests'\n",
    "cv_res_rf_m, params_rf_m, gen_res_rf_m, class_res_rf_m, conf_mat_rf_m = getPerfMetrics(gs_rf_m, X_std, y_enc, model_name, pos_class, neg_class)"
   ]
  },
  {
   "cell_type": "code",
   "execution_count": null,
   "metadata": {},
   "outputs": [],
   "source": [
    "params_rf_m"
   ]
  },
  {
   "cell_type": "code",
   "execution_count": null,
   "metadata": {},
   "outputs": [],
   "source": [
    "gen_res_rf_m"
   ]
  },
  {
   "cell_type": "code",
   "execution_count": null,
   "metadata": {},
   "outputs": [],
   "source": [
    "class_res_rf_m"
   ]
  },
  {
   "cell_type": "code",
   "execution_count": null,
   "metadata": {},
   "outputs": [],
   "source": [
    "conf_mat_rf_m"
   ]
  },
  {
   "cell_type": "markdown",
   "metadata": {},
   "source": [
    "### KNN"
   ]
  },
  {
   "cell_type": "code",
   "execution_count": null,
   "metadata": {},
   "outputs": [],
   "source": [
    "param_grid = [{\n",
    "    'n_neighbors': list(range(1,3,1)),\n",
    "    'weights': ['uniform','distance'],\n",
    "    'metric': ['minkowski','manhattan']\n",
    "}]\n",
    "gs_knn_m = _gridSearchCV(\n",
    "    neighbors.KNeighborsClassifier, \n",
    "    param_grid,\n",
    "    X_std, \n",
    "    y_enc)"
   ]
  },
  {
   "cell_type": "code",
   "execution_count": 26,
   "metadata": {},
   "outputs": [
    {
     "ename": "NameError",
     "evalue": "name 'gs_knn_m' is not defined",
     "output_type": "error",
     "traceback": [
      "\u001b[0;31m---------------------------------------------------------------------------\u001b[0m",
      "\u001b[0;31mNameError\u001b[0m                                 Traceback (most recent call last)",
      "\u001b[0;32m<ipython-input-26-abeea6660810>\u001b[0m in \u001b[0;36m<module>\u001b[0;34m\u001b[0m\n\u001b[1;32m      3\u001b[0m \u001b[0mpos_class\u001b[0m \u001b[0;34m=\u001b[0m \u001b[0;34m'edible'\u001b[0m\u001b[0;34m\u001b[0m\u001b[0;34m\u001b[0m\u001b[0m\n\u001b[1;32m      4\u001b[0m \u001b[0mneg_class\u001b[0m \u001b[0;34m=\u001b[0m \u001b[0;34m'poisonous'\u001b[0m\u001b[0;34m\u001b[0m\u001b[0;34m\u001b[0m\u001b[0m\n\u001b[0;32m----> 5\u001b[0;31m \u001b[0mcv_res_knn_m\u001b[0m\u001b[0;34m,\u001b[0m \u001b[0mparams_knn_m\u001b[0m\u001b[0;34m,\u001b[0m \u001b[0mgen_res_knn_m\u001b[0m\u001b[0;34m,\u001b[0m \u001b[0mclass_res_knn_m\u001b[0m \u001b[0;34m=\u001b[0m \u001b[0mgetPerfMetrics\u001b[0m\u001b[0;34m(\u001b[0m\u001b[0mgs_knn_m\u001b[0m\u001b[0;34m,\u001b[0m \u001b[0mX_std\u001b[0m\u001b[0;34m,\u001b[0m \u001b[0my_enc\u001b[0m\u001b[0;34m,\u001b[0m \u001b[0mmodel_name\u001b[0m\u001b[0;34m,\u001b[0m \u001b[0mpos_class\u001b[0m\u001b[0;34m,\u001b[0m \u001b[0mneg_class\u001b[0m\u001b[0;34m)\u001b[0m\u001b[0;34m\u001b[0m\u001b[0;34m\u001b[0m\u001b[0m\n\u001b[0m",
      "\u001b[0;31mNameError\u001b[0m: name 'gs_knn_m' is not defined"
     ]
    }
   ],
   "source": [
    "#Save the metrics\n",
    "model_name = 'kNN'\n",
    "cv_res_knn_m, params_knn_m, gen_res_knn_m, class_res_knn_m, conf_mat_knn_m = getPerfMetrics(gs_knn_m, X_std, y_enc, model_name, pos_class, neg_class)"
   ]
  },
  {
   "cell_type": "code",
   "execution_count": null,
   "metadata": {},
   "outputs": [],
   "source": [
    "params_knn_m"
   ]
  },
  {
   "cell_type": "code",
   "execution_count": null,
   "metadata": {},
   "outputs": [],
   "source": [
    "gen_res_knn_m"
   ]
  },
  {
   "cell_type": "code",
   "execution_count": null,
   "metadata": {},
   "outputs": [],
   "source": [
    "class_res_knn_m"
   ]
  },
  {
   "cell_type": "code",
   "execution_count": null,
   "metadata": {},
   "outputs": [],
   "source": [
    "conf_mat_knn_m"
   ]
  },
  {
   "cell_type": "markdown",
   "metadata": {},
   "source": [
    "### SVM"
   ]
  },
  {
   "cell_type": "code",
   "execution_count": null,
   "metadata": {},
   "outputs": [],
   "source": [
    "param_grid = [{\n",
    "    'kernel': ['linear','poly','rbf','sigmoid'],\n",
    "    'degree': list(range(1,4,1)),\n",
    "    'decision_function_shape': ['ovr','ovo']\n",
    "}]\n",
    "gs_svm_m = _gridSearchCV(\n",
    "    SVC, \n",
    "    param_grid,\n",
    "    X_std, \n",
    "    y_enc)"
   ]
  },
  {
   "cell_type": "code",
   "execution_count": null,
   "metadata": {},
   "outputs": [],
   "source": [
    "#Save the metrics\n",
    "model_name = 'Support Vector Machines'\n",
    "cv_res_svm_m, params_svm_m, gen_res_svm_m, class_res_svm_m, conf_mat_svm_m = getPerfMetrics(gs_svm_m, X_std, y_enc, model_name, pos_class, neg_class)"
   ]
  },
  {
   "cell_type": "code",
   "execution_count": null,
   "metadata": {},
   "outputs": [],
   "source": [
    "params_svm_m"
   ]
  },
  {
   "cell_type": "code",
   "execution_count": null,
   "metadata": {},
   "outputs": [],
   "source": [
    "gen_res_svm_m"
   ]
  },
  {
   "cell_type": "code",
   "execution_count": null,
   "metadata": {},
   "outputs": [],
   "source": [
    "class_res_svm_m"
   ]
  },
  {
   "cell_type": "code",
   "execution_count": null,
   "metadata": {},
   "outputs": [],
   "source": [
    "conf_mat_svm_m"
   ]
  },
  {
   "cell_type": "markdown",
   "metadata": {},
   "source": [
    "### Neural Networks"
   ]
  },
  {
   "cell_type": "code",
   "execution_count": null,
   "metadata": {},
   "outputs": [],
   "source": [
    "param_grid = [{\n",
    "    'hidden_layer_sizes': [(n,) for n in list(range(1,20,1))],\n",
    "    'solver': ['lbfgs','sgd','adam'],\n",
    "    'activation': ['relu','logistic'],\n",
    "    'learning_rate': ['constant','invscaling']\n",
    "}]\n",
    "gs_mlp_m = _gridSearchCV(\n",
    "    MLPClassifier, \n",
    "    param_grid,\n",
    "    X_std, \n",
    "    y_enc)"
   ]
  },
  {
   "cell_type": "code",
   "execution_count": null,
   "metadata": {},
   "outputs": [],
   "source": [
    "#Save the metrics\n",
    "model_name = 'Neural Network'\n",
    "cv_res_mlp_m, params_mlp_m, gen_res_mlp_m, class_res_mlp_m, conf_mat_svm_m = getPerfMetrics(gs_mlp_m, X_std, y_enc, model_name, pos_class, neg_class)"
   ]
  },
  {
   "cell_type": "code",
   "execution_count": null,
   "metadata": {},
   "outputs": [],
   "source": [
    "params_svm_m"
   ]
  },
  {
   "cell_type": "code",
   "execution_count": null,
   "metadata": {},
   "outputs": [],
   "source": [
    "gen_res_svm_m"
   ]
  },
  {
   "cell_type": "code",
   "execution_count": null,
   "metadata": {},
   "outputs": [],
   "source": [
    "class_res_svm_m"
   ]
  },
  {
   "cell_type": "code",
   "execution_count": null,
   "metadata": {},
   "outputs": [],
   "source": [
    "conf_mat_svm_m"
   ]
  },
  {
   "cell_type": "markdown",
   "metadata": {},
   "source": [
    "# Adult incomes\n",
    "Get the data\n",
    "## Interests\n",
    "## Munging"
   ]
  },
  {
   "cell_type": "code",
   "execution_count": 53,
   "metadata": {},
   "outputs": [],
   "source": [
    "#df = pd.read_csv('datasets/adult/adult.data.txt', header=None)\n",
    "df = pd.read_csv('https://raw.githubusercontent.com/sventopia/ML/master/datasets/adult/adult.data.txt', header=None)\n",
    "df.columns = ['age','workclass','fnlwgt','education','education-num','marital-status',\n",
    "                  'occupation','relationship','race','sex','capital-gain','capital-loss',\n",
    "                  'hours-per-week','native-country','income']"
   ]
  },
  {
   "cell_type": "code",
   "execution_count": 54,
   "metadata": {},
   "outputs": [],
   "source": [
    "df = df.drop(['capital-gain','capital-loss'], axis=1)\n",
    "#split off the response variable\n",
    "y = df['income'].to_frame()\n",
    "X = df.loc[:, df.columns != 'income']"
   ]
  },
  {
   "cell_type": "code",
   "execution_count": 55,
   "metadata": {},
   "outputs": [],
   "source": [
    "#encode the target variable\n",
    "le = LabelEncoder()\n",
    "y_enc = le.fit_transform(y.values.ravel())\n",
    "\n",
    "#encode dummy variables\n",
    "X_enc = pd.get_dummies(X)\n",
    "\n",
    "scaler = StandardScaler()\n",
    "X_std = scaler.fit_transform(X_enc)"
   ]
  },
  {
   "cell_type": "markdown",
   "metadata": {},
   "source": [
    "### Decision Trees"
   ]
  },
  {
   "cell_type": "code",
   "execution_count": null,
   "metadata": {},
   "outputs": [],
   "source": [
    "param_grid = [{\n",
    "    'max_depth': list(range(1,10,1)),\n",
    "    'criterion': ['gini','entropy']\n",
    "}]\n",
    "gs_dt_a = _gridSearchCV(\n",
    "    tree.DecisionTreeClassifier, \n",
    "    param_grid,\n",
    "    X_std, \n",
    "    y_enc)"
   ]
  },
  {
   "cell_type": "code",
   "execution_count": null,
   "metadata": {},
   "outputs": [],
   "source": [
    "#Save the metrics\n",
    "model_name = 'decision tree'\n",
    "pos_class = '> $50k'\n",
    "neg_class = '<= $50k'\n",
    "cv_res_dt_a, params_dt_a, gen_res_dt_a, class_res_dt_a, conf_mat_dt_a = getPerfMetrics(gs_dt_a, X_std, y_enc, model_name, pos_class, neg_class)"
   ]
  },
  {
   "cell_type": "code",
   "execution_count": null,
   "metadata": {},
   "outputs": [],
   "source": [
    "params_dt_a"
   ]
  },
  {
   "cell_type": "code",
   "execution_count": null,
   "metadata": {},
   "outputs": [],
   "source": [
    "gen_res_dt_a"
   ]
  },
  {
   "cell_type": "code",
   "execution_count": null,
   "metadata": {},
   "outputs": [],
   "source": [
    "class_res_dt_a"
   ]
  },
  {
   "cell_type": "code",
   "execution_count": null,
   "metadata": {},
   "outputs": [],
   "source": [
    "conf_mat_dt_a"
   ]
  },
  {
   "cell_type": "markdown",
   "metadata": {},
   "source": [
    "### Boosting"
   ]
  },
  {
   "cell_type": "code",
   "execution_count": null,
   "metadata": {},
   "outputs": [],
   "source": [
    "### Boosting\n",
    "param_grid = [{\n",
    "    'n_estimators': list(range(5,25,1)),\n",
    "    'max_depth': list(range(1,10,1)),\n",
    "    'criterion': ['gini','entropy']\n",
    "}]\n",
    "gs_rf_a = _gridSearchCV(\n",
    "    RandomForestClassifier, \n",
    "    param_grid,\n",
    "    X_std, \n",
    "    y_enc)"
   ]
  },
  {
   "cell_type": "code",
   "execution_count": null,
   "metadata": {},
   "outputs": [],
   "source": [
    "#Save the metrics\n",
    "model_name = 'random forests'\n",
    "cv_res_rf_a, params_rf_a, gen_res_rf_a, class_res_rf_a, conf_mat_rf_a = getPerfMetrics(gs_rf_a, X_std, y_enc, model_name, pos_class, neg_class)\n",
    "\n"
   ]
  },
  {
   "cell_type": "code",
   "execution_count": null,
   "metadata": {},
   "outputs": [],
   "source": [
    "params_rf_a"
   ]
  },
  {
   "cell_type": "code",
   "execution_count": null,
   "metadata": {},
   "outputs": [],
   "source": [
    "gen_res_rf_a"
   ]
  },
  {
   "cell_type": "code",
   "execution_count": null,
   "metadata": {},
   "outputs": [],
   "source": [
    "class_res_rf_a"
   ]
  },
  {
   "cell_type": "code",
   "execution_count": null,
   "metadata": {},
   "outputs": [],
   "source": [
    "conf_mat_rf_a"
   ]
  },
  {
   "cell_type": "markdown",
   "metadata": {},
   "source": [
    "### K-nearest neighbors"
   ]
  },
  {
   "cell_type": "code",
   "execution_count": null,
   "metadata": {},
   "outputs": [],
   "source": [
    "param_grid = [{\n",
    "    'n_neighbors': list(range(1,3,1)),\n",
    "    'weights': ['uniform','distance'],\n",
    "    'metric': ['minkowski','manhattan']\n",
    "}]\n",
    "gs_knn_a = _gridSearchCV(\n",
    "    neighbors.KNeighborsClassifier, \n",
    "    param_grid,\n",
    "    X_std, \n",
    "    y_enc)"
   ]
  },
  {
   "cell_type": "code",
   "execution_count": null,
   "metadata": {},
   "outputs": [],
   "source": [
    "#Save the metrics\n",
    "model_name = 'kNN'\n",
    "cv_res_knn_a, params_knn_a, gen_res_knn_a, class_res_knn_a, conf_mat_knn_a = getPerfMetrics(gs_knn_a, X_std, y_enc, model_name, pos_class, neg_class)\n"
   ]
  },
  {
   "cell_type": "code",
   "execution_count": null,
   "metadata": {},
   "outputs": [],
   "source": [
    "params_knn_a"
   ]
  },
  {
   "cell_type": "code",
   "execution_count": null,
   "metadata": {},
   "outputs": [],
   "source": [
    "gen_res_knn_a"
   ]
  },
  {
   "cell_type": "code",
   "execution_count": null,
   "metadata": {},
   "outputs": [],
   "source": [
    "class_res_knn_a"
   ]
  },
  {
   "cell_type": "code",
   "execution_count": null,
   "metadata": {},
   "outputs": [],
   "source": [
    "conf_mat_knn_a"
   ]
  },
  {
   "cell_type": "markdown",
   "metadata": {},
   "source": [
    "### SVM"
   ]
  },
  {
   "cell_type": "code",
   "execution_count": null,
   "metadata": {},
   "outputs": [],
   "source": [
    "param_grid = [{\n",
    "    'kernel': ['linear','poly','rbf','sigmoid'],\n",
    "    'degree': list(range(1,4,1)),\n",
    "    'decision_function_shape': ['ovr','ovo']\n",
    "}]\n",
    "gs_svm_a = _gridSearchCV(\n",
    "    SVC, \n",
    "    param_grid,\n",
    "    X_std, \n",
    "    y_enc)"
   ]
  },
  {
   "cell_type": "code",
   "execution_count": null,
   "metadata": {},
   "outputs": [],
   "source": [
    "#Save the metrics\n",
    "model_name = 'Support Vector Machines'\n",
    "cv_res_svm_a, params_svm_a, gen_res_svm_a, class_res_svm_a, conf_mat_svm_a = getPerfMetrics(gs_svm_a, X_std, y_enc, model_name, pos_class, neg_class)"
   ]
  },
  {
   "cell_type": "code",
   "execution_count": null,
   "metadata": {},
   "outputs": [],
   "source": [
    "params_svm_a"
   ]
  },
  {
   "cell_type": "code",
   "execution_count": null,
   "metadata": {},
   "outputs": [],
   "source": [
    "gen_res_svm_a"
   ]
  },
  {
   "cell_type": "code",
   "execution_count": null,
   "metadata": {},
   "outputs": [],
   "source": [
    "class_res_svm_a"
   ]
  },
  {
   "cell_type": "code",
   "execution_count": null,
   "metadata": {},
   "outputs": [],
   "source": [
    "conf_mat_svm_a"
   ]
  },
  {
   "cell_type": "markdown",
   "metadata": {},
   "source": [
    "### Neural Networks"
   ]
  },
  {
   "cell_type": "code",
   "execution_count": null,
   "metadata": {},
   "outputs": [],
   "source": [
    "param_grid = [{\n",
    "    'hidden_layer_sizes': [(n,) for n in list(range(1,20,1))],\n",
    "    'solver': ['lbfgs','sgd','adam'],\n",
    "    'activation': ['relu','logistic'],\n",
    "    'learning_rate': ['constant','invscaling']\n",
    "}]\n",
    "gs_mlp_a = _gridSearchCV(\n",
    "    MLPClassifier, \n",
    "    param_grid,\n",
    "    X_std, \n",
    "    y_enc)"
   ]
  },
  {
   "cell_type": "code",
   "execution_count": null,
   "metadata": {},
   "outputs": [],
   "source": [
    "#Save the metrics\n",
    "model_name = 'Neural Network'\n",
    "cv_res_mlp_a, params_mlp_a, gen_res_mlp_a, class_res_mlp_a, conf_mat_svm_a = getPerfMetrics(gs_mlp_a, X_std, y_enc, model_name, pos_class, neg_class)\n"
   ]
  },
  {
   "cell_type": "code",
   "execution_count": null,
   "metadata": {},
   "outputs": [],
   "source": [
    "params_mlp_a"
   ]
  },
  {
   "cell_type": "code",
   "execution_count": null,
   "metadata": {},
   "outputs": [],
   "source": [
    "gen_res_mlp_a"
   ]
  },
  {
   "cell_type": "code",
   "execution_count": null,
   "metadata": {},
   "outputs": [],
   "source": [
    "class_res_mlp_a"
   ]
  },
  {
   "cell_type": "code",
   "execution_count": null,
   "metadata": {},
   "outputs": [],
   "source": [
    "conf_mat_svm_a"
   ]
  }
 ],
 "metadata": {
  "kernelspec": {
   "display_name": "Python 3",
   "language": "python",
   "name": "python3"
  },
  "language_info": {
   "codemirror_mode": {
    "name": "ipython",
    "version": 3
   },
   "file_extension": ".py",
   "mimetype": "text/x-python",
   "name": "python",
   "nbconvert_exporter": "python",
   "pygments_lexer": "ipython3",
   "version": "3.6.7"
  }
 },
 "nbformat": 4,
 "nbformat_minor": 2
}
